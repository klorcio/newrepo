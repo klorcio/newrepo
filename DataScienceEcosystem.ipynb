{
  "metadata": {
    "language_info": {
      "codemirror_mode": {
        "name": "python",
        "version": 3
      },
      "file_extension": ".py",
      "mimetype": "text/x-python",
      "name": "python",
      "nbconvert_exporter": "python",
      "pygments_lexer": "ipython3",
      "version": "3.8"
    },
    "kernelspec": {
      "name": "python",
      "display_name": "Python (Pyodide)",
      "language": "python"
    }
  },
  "nbformat_minor": 4,
  "nbformat": 4,
  "cells": [
    {
      "cell_type": "markdown",
      "source": "# Data Science Ecosystem",
      "metadata": {}
    },
    {
      "cell_type": "markdown",
      "source": "In this notebook, Data Science Tools and Ecosystem are summarized.",
      "metadata": {}
    },
    {
      "cell_type": "markdown",
      "source": "**Objectives:**\n+ List popular languages for Data Science\n+ List of commonly used libraries in Data Science\n+ List of open source Data Science tools\n+ Examples of arithmetic expressions",
      "metadata": {}
    },
    {
      "cell_type": "markdown",
      "source": "Some of the popular languages that Data Scientists use are:\n1. Python\n2. R\n3. Scala",
      "metadata": {}
    },
    {
      "cell_type": "markdown",
      "source": "Some of the commonly used libraries used by Dara Scientists include:\n+ Pandas\n+ Matplotlib\n+ NumPy\n",
      "metadata": {}
    },
    {
      "cell_type": "markdown",
      "source": "| Data Science Tools |\n| ----------------- |\n| JupyterLab |\n| RSudio |\n| Apache Spark |\n",
      "metadata": {
        "jp-MarkdownHeadingCollapsed": true,
        "tags": []
      }
    },
    {
      "cell_type": "markdown",
      "source": "### Below are few exaples of evaluating arithmetic expressions in Python:",
      "metadata": {}
    },
    {
      "cell_type": "markdown",
      "source": "This is a simple arithmetic expression to multiply then add integers",
      "metadata": {}
    },
    {
      "cell_type": "code",
      "source": "(3*4)+5",
      "metadata": {
        "trusted": true
      },
      "execution_count": 3,
      "outputs": [
        {
          "execution_count": 3,
          "output_type": "execute_result",
          "data": {
            "text/plain": "17"
          },
          "metadata": {}
        }
      ]
    },
    {
      "cell_type": "markdown",
      "source": "This will convert 200 minutes to hours by dividing by 60",
      "metadata": {}
    },
    {
      "cell_type": "code",
      "source": "200/60",
      "metadata": {
        "trusted": true
      },
      "execution_count": 4,
      "outputs": [
        {
          "execution_count": 4,
          "output_type": "execute_result",
          "data": {
            "text/plain": "3.3333333333333335"
          },
          "metadata": {}
        }
      ]
    },
    {
      "cell_type": "markdown",
      "source": "## Author\nDominika Piekarska",
      "metadata": {}
    }
  ]
}